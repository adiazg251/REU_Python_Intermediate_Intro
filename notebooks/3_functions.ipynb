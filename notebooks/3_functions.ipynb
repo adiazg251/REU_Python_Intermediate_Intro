{
 "cells": [
  {
   "cell_type": "markdown",
   "metadata": {},
   "source": [
    "# Python Workshop: Functions\n",
    "## Simple Math\n",
    "You can do math on floats and integers relatively easily. Addition, subtraction, multiplication, and division are defined by ```+```,```-```,```*```, and ```/```, respectively. "
   ]
  },
  {
   "cell_type": "code",
   "execution_count": null,
   "metadata": {},
   "outputs": [],
   "source": [
    "# Task) Determine what kind of variable you get when you \n",
    "#       divide 18 by 3 (both integers). \n",
    "#\n",
    "#       Write your code below\n",
    "\n",
    "my_math = 18/3\n",
    "print(my_math, type(my_math))\n",
    "\n",
    "# Is the result the type of variable you expected?\n",
    "# Python is smart: It knows that the quotient of two integers\n",
    "# may not be an integer, so it returns a float. \n",
    "#\n",
    "# Not all languages do this! Some will say 17/4 = 4"
   ]
  },
  {
   "cell_type": "markdown",
   "metadata": {},
   "source": [
    "## Built-In Functions\n",
    "In addition to ```+```,```-```,```*```, and ```/```, many other common functions are built into Python. Here are a few examples:\n",
    "\n",
    "```abs(your_number)``` returns the absolute value of a number\n",
    "\n",
    "```sum(your_list)``` returns the sum of the elements in a numerical list\n",
    "\n",
    "```min(your_list)``` returns the minimum of a numerical list\n",
    "\n",
    "```max(your_list)``` returns the maximum of a numerical list\n",
    "\n",
    "```range(int1, int2, int3)``` returns a list from int1 to int2 (not including int2) in steps of int3\n",
    "\n",
    "```range(your_integer)``` returns a list from 0 to (your_integer - 1) in steps of 1"
   ]
  },
  {
   "cell_type": "code",
   "execution_count": 5,
   "metadata": {},
   "outputs": [
    {
     "name": "stdout",
     "output_type": "stream",
     "text": [
      "5\n",
      "13\n"
     ]
    }
   ],
   "source": [
    "# Task) Find the sum of the minimum and maximum of [1,2,3,4]\n",
    "#\n",
    "#       Write your code below\n",
    "\n",
    "my_list = [1, 2, 3, 4]\n",
    "my_min = min(my_list)\n",
    "my_max = max(my_list)\n",
    "my_sum = my_min + my_max\n",
    "print(my_sum)\n",
    "\n",
    "# The one-line version:\n",
    "# print(min([1, 2, 3, 4])+max([1, 2, 3, 4]))\n",
    "my_range = range(7,14,2)\n",
    "print(my_range[3])"
   ]
  },
  {
   "cell_type": "markdown",
   "metadata": {},
   "source": [
    "## Logical Operators\n",
    "### Boolean Operators\n",
    "**Boolean operators** evaluate an expression to a boolean, that is, they determine if a statement is True or False. \n",
    "The operators \"and,\" \"or,\" and \"not\" are ```and```, ```or```, and ```not``` in Python (that's nice!).\n",
    "\n",
    "Here is an example using boolean operators:\n",
    "\n",
    "```test_boolean = True and False```\n",
    "\n",
    "```test_boolean``` will be False.\n",
    "### Comparison Operators\n",
    "**Comparison operators**, as their name suggests, compare two values. They are as follows:\n",
    "\n",
    "|Operator|English Equivalent|\n",
    "|:--:|:----------:|\n",
    "|<|\"Less than\"|\n",
    "|<=|\"Less than or equal to\"|\n",
    "|>|\"Greater than\"|\n",
    "|>=|\"Greater than or equal to\"|\n",
    "|==|\"Equal to\"|\n",
    "|!=|\"Not equal to\"|\n",
    "\n",
    "Here is an example using comparison operators:\n",
    "\n",
    "```test_comparison = 3 <= 7```\n",
    "\n",
    "```test_comparison``` will be True. "
   ]
  },
  {
   "cell_type": "code",
   "execution_count": 6,
   "metadata": {},
   "outputs": [
    {
     "name": "stdout",
     "output_type": "stream",
     "text": [
      "True\n"
     ]
    }
   ],
   "source": [
    "# Task) Determine if the following statement is True or False:\n",
    "#       not (20 is less than or equal to 19)\n",
    "#\n",
    "#       Write your code below\n",
    "\n",
    "\"\"\"\n",
    "What should we get? Well...\n",
    "    not(20<=19)  =  not(False)  =  True\n",
    "\"\"\"\n",
    "\n",
    "my_boolean = not(20<=19)\n",
    "print(my_boolean)"
   ]
  },
  {
   "cell_type": "markdown",
   "metadata": {},
   "source": [
    "Now we have to start paying attention to **indentations**.\n",
    "## While Loops\n",
    "A **while loop** will evaluate whatever is inside over and over again while a given condition is true. The cell below will show you how to construct a while loop, and the example will add consecutive numbers until the sum is greater than 10. "
   ]
  },
  {
   "cell_type": "code",
   "execution_count": 7,
   "metadata": {},
   "outputs": [
    {
     "name": "stdout",
     "output_type": "stream",
     "text": [
      "0 + 0 = 0\n",
      "0 + 1 = 1\n",
      "1 + 2 = 3\n",
      "3 + 3 = 6\n",
      "6 + 4 = 10\n",
      "The sum is 10, and the last number is 5\n"
     ]
    }
   ],
   "source": [
    "'''\n",
    "A while loop is constructed like this:\n",
    "\n",
    "while condition:\n",
    "    # stuff to do\n",
    "    \n",
    "Be careful, or you might accidentally make a loop that will go on forever!\n",
    "'''\n",
    "\n",
    "while_number = 0 # Start with 0\n",
    "while_sum = 0 # Start with a sum of 0\n",
    "\n",
    "while while_sum < 10:\n",
    "    print('%i + %i = %i'%(while_sum, while_number, while_sum + while_number))\n",
    "    \n",
    "    while_sum = while_sum + while_number # Add the number to the sum\n",
    "    while_number = while_number + 1 # Increase the number by 1\n",
    "\n",
    "# This next line won't execute until the loop is done\n",
    "print(\"The sum is %i, and the last number is %i\"%(while_sum,while_number))"
   ]
  },
  {
   "cell_type": "code",
   "execution_count": 8,
   "metadata": {
    "scrolled": true
   },
   "outputs": [
    {
     "name": "stdout",
     "output_type": "stream",
     "text": [
      "93\n",
      "86\n",
      "79\n",
      "72\n",
      "65\n",
      "58\n",
      "51\n",
      "44\n",
      "37\n",
      "30\n",
      "23\n"
     ]
    }
   ],
   "source": [
    "# Task) Construct a while loop which starts with the number 100 \n",
    "#       and keeps subtracting 7 until the number is less than 30\n",
    "#\n",
    "#       Write your code below\n",
    "\n",
    "my_number = 100\n",
    "\n",
    "while my_number >= 30:\n",
    "    my_number = my_number - 7\n",
    "    print(my_number)"
   ]
  },
  {
   "cell_type": "markdown",
   "metadata": {},
   "source": [
    "## For Loops\n",
    "A **for loop** will evaluate a certain number of times before stopping. The cell below will show you how to construct a for loop, and the example will add the numbers 1 through 10. "
   ]
  },
  {
   "cell_type": "code",
   "execution_count": 9,
   "metadata": {},
   "outputs": [
    {
     "name": "stdout",
     "output_type": "stream",
     "text": [
      "0 + 1 = 1\n",
      "1 + 2 = 3\n",
      "3 + 3 = 6\n",
      "6 + 4 = 10\n",
      "10 + 5 = 15\n",
      "15 + 6 = 21\n",
      "21 + 7 = 28\n",
      "28 + 8 = 36\n",
      "36 + 9 = 45\n",
      "45 + 10 = 55\n",
      "The final sum is 55\n"
     ]
    }
   ],
   "source": [
    "'''\n",
    "A for loop is constructed like this:\n",
    "\n",
    "for i in your_list:\n",
    "    # what to do for each i in the list\n",
    "    \n",
    "Unlike a while loop, this will not go on forever.\n",
    "It will only evaluate as many times as the length of your_list.\n",
    "Notice the indentations!\n",
    "'''\n",
    "\n",
    "for_sum = 0 # Start with a sum of 0\n",
    "for i in range(1,11,1):\n",
    "    print('%i + %i = %i'%(for_sum, i, for_sum+i))\n",
    "    for_sum += i # A faster way to write \"for_sum = for_sum + i\"\n",
    "\n",
    "print('The final sum is', for_sum)"
   ]
  },
  {
   "cell_type": "code",
   "execution_count": 10,
   "metadata": {},
   "outputs": [
    {
     "name": "stdout",
     "output_type": "stream",
     "text": [
      "0 + 0 = 0\n",
      "0 + 2 = 2\n",
      "2 + 4 = 6\n",
      "6 + 6 = 12\n",
      "12 + 8 = 20\n",
      "20 + 10 = 30\n",
      "30 + 12 = 42\n",
      "42 + 14 = 56\n",
      "56 + 16 = 72\n",
      "72 + 18 = 90\n",
      "90 + 20 = 110\n",
      "110 + 22 = 132\n",
      "132 + 24 = 156\n",
      "156 + 26 = 182\n",
      "182 + 28 = 210\n",
      "210 + 30 = 240\n",
      "240 + 32 = 272\n",
      "272 + 34 = 306\n",
      "306 + 36 = 342\n",
      "342 + 38 = 380\n",
      "380 + 40 = 420\n",
      "420 + 42 = 462\n",
      "462 + 44 = 506\n",
      "506 + 46 = 552\n",
      "552 + 48 = 600\n",
      "600 + 50 = 650\n",
      "650 + 52 = 702\n",
      "702 + 54 = 756\n",
      "756 + 56 = 812\n",
      "812 + 58 = 870\n",
      "870 + 60 = 930\n",
      "930 + 62 = 992\n",
      "992 + 64 = 1056\n",
      "1056 + 66 = 1122\n",
      "1122 + 68 = 1190\n",
      "1190 + 70 = 1260\n",
      "1260 + 72 = 1332\n",
      "1332 + 74 = 1406\n",
      "1406 + 76 = 1482\n",
      "1482 + 78 = 1560\n",
      "1560 + 80 = 1640\n",
      "1640 + 82 = 1722\n",
      "1722 + 84 = 1806\n",
      "1806 + 86 = 1892\n",
      "1892 + 88 = 1980\n",
      "1980 + 90 = 2070\n",
      "2070 + 92 = 2162\n",
      "2162 + 94 = 2256\n",
      "2256 + 96 = 2352\n",
      "2352 + 98 = 2450\n",
      "2450 + 100 = 2550\n"
     ]
    }
   ],
   "source": [
    "# Task) Construct a for loop which adds the even numbers \n",
    "#       from 0 to 100, inclusive\n",
    "#\n",
    "#       Write your code below\n",
    "\n",
    "my_sum = 0\n",
    "\n",
    "for i in range(0,102, 2):\n",
    "    # This print statement uses \"string formatting\"\n",
    "    # so you can see what's going on\n",
    "    \n",
    "    print('%i + %i = %i'%(my_sum, i, my_sum+i))\n",
    "    \n",
    "    my_sum = my_sum + i"
   ]
  },
  {
   "cell_type": "markdown",
   "metadata": {},
   "source": [
    "## Making Your Own Functions\n",
    "The built-in functions are great, but they don't cover every function you could possibly think of. Thankfully, you can make your own, but pay attention to indentations! \n",
    "\n",
    "The cell below will show you how to construct a simple function, and the example will return the sum and difference of two numbers."
   ]
  },
  {
   "cell_type": "code",
   "execution_count": 11,
   "metadata": {},
   "outputs": [
    {
     "name": "stdout",
     "output_type": "stream",
     "text": [
      "Sum = 7, Difference = -1\n"
     ]
    }
   ],
   "source": [
    "'''\n",
    "A function should be defined as follows:\n",
    "\n",
    "def function_name(your_inputs)\n",
    "    # type all of the operations\n",
    "    return your_outputs\n",
    "    \n",
    "Make sure everything inside of the function is INDENTED\n",
    "'''\n",
    "\n",
    "def sum_diff(a,b):\n",
    "    c = a + b\n",
    "    d = a - b\n",
    "    return c, d\n",
    "\n",
    "'''\n",
    "Once you define a function, you can save the outputs it generates \n",
    "from any valid inputs:\n",
    "\n",
    "[output_values] = function_name(input_values)\n",
    "\n",
    "Below, we will save the sum and difference of 3 and 4.\n",
    "'''\n",
    "\n",
    "[test_sum, test_diff] = sum_diff(3,4)\n",
    "\n",
    "print(\"Sum = %i, Difference = %i\"%(test_sum,test_diff))"
   ]
  },
  {
   "cell_type": "code",
   "execution_count": 12,
   "metadata": {},
   "outputs": [
    {
     "name": "stdout",
     "output_type": "stream",
     "text": [
      "21\n"
     ]
    }
   ],
   "source": [
    "# Task) Make a function which returns c, the product of inputs a and b\n",
    "#\n",
    "#       Write your code below\n",
    "\n",
    "def my_mult_function(a,b):\n",
    "    c = a*b\n",
    "    return c\n",
    "\n",
    "print(my_mult_function(7,3))"
   ]
  },
  {
   "cell_type": "code",
   "execution_count": null,
   "metadata": {},
   "outputs": [],
   "source": []
  }
 ],
 "metadata": {
  "kernelspec": {
   "display_name": "Python 3",
   "language": "python",
   "name": "python3"
  },
  "language_info": {
   "codemirror_mode": {
    "name": "ipython",
    "version": 3
   },
   "file_extension": ".py",
   "mimetype": "text/x-python",
   "name": "python",
   "nbconvert_exporter": "python",
   "pygments_lexer": "ipython3",
   "version": "3.8.8"
  }
 },
 "nbformat": 4,
 "nbformat_minor": 2
}
