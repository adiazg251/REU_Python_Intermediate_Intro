{
 "cells": [
  {
   "cell_type": "markdown",
   "metadata": {},
   "source": [
    "# Python Workshop: Variables\n",
    "\n",
    "**Variables** store the values of something so you can reference it later. They are useful when the same value is used so many times in your code that changing each instance by hand would be a pain. To define a variable, simply type\n",
    "```variable_name = variable_value``` (with the actual name and value of the variable). For example, I can create a variable which stores my age:\n",
    "\n",
    "```my_age = 20```\n",
    "\n",
    "Imagine I had typed 20 everywhere in my code to do some math involving my age. What happens on my birthday? Well, I'd have to change every 20 to a 21 in my code. That could get tedious, and I could miss some. Instead, if I defined the variable ```my_age```, I would use that everywhere in the code. Then, when I need to change the value, I only have to edit the definition of ```my_age```. \n",
    "\n",
    "### Booleans\n",
    "A **boolean** is either True (1) or False (0). \n",
    "### Integers\n",
    "An **integer** is any whole number *without* a decimal point (... -2, -1, 0, 1, 2 ...).\n",
    "### Floats\n",
    "**Floats** are numbers *with* a decimal point (3.14, 100.0001, etc.). If a whole number has a decimal point (such as 7.), it's considered a float.\n",
    "\n",
    "You can define numbers in **scientific notation** using ```E``` to represent \"10^\". For example, ```3.00E8``` means 3.00*(10^8).\n",
    "### Strings\n",
    "**Strings** are collections of characters surrounded by single or double quotation marks ('Hello!', \"1234\", \"etc.\"). \n",
    "To include quotation marks or apostrophes *inside* a string, use a ```\\``` in front of them. For example, \"I said \"Let's read Feynman's lectures\"\" can be written as\n",
    "\n",
    "```my_string = \"I said \\\"Let\\'s read Feynman\\'s lectures\\\"\"```\n",
    "\n",
    "\n",
    "*Note:* You do not have to say what type of variable you are defining; Python will know. This is different from many other programming languages."
   ]
  },
  {
   "cell_type": "code",
   "execution_count": 5,
   "metadata": {},
   "outputs": [
    {
     "name": "stdout",
     "output_type": "stream",
     "text": [
      "2021 \n",
      " 6.7e-11 \n",
      " Hello there!\n",
      "e\n"
     ]
    }
   ],
   "source": [
    "# Task) Create and print 3 variables: \n",
    "#       the integer 2021, the float 6.7x10^-11, and the string \"Hello there!\"\n",
    "#\n",
    "#       Write your code below\n",
    "\n",
    "my_integer = 2021\n",
    "my_float = 6.7E-11\n",
    "my_string = \"Hello there!\"\n",
    "\n",
    "print(my_integer, '\\n', my_float, '\\n', my_string)\n",
    "\n",
    "\"\"\"\n",
    "Notes: \n",
    "\n",
    "I can't name a variable \"int\" , \"float\" , or \"string\" because\n",
    "those words are taken by Python functions. That's why I put \n",
    "\"my_\" at the beginning of every variable name!\n",
    "\n",
    "\"print(my_integer, '\\n', my_float, '\\n', my_string)\" \n",
    "is a condensed version of\n",
    "\n",
    "   print(my_integer)\n",
    "   print(my_float)\n",
    "   print(my_string)\n",
    "\n",
    "The \"\\n\" is not required, but it's nice because it creates\n",
    "line breaks (everything would print on one line without it)\n",
    "\n",
    "Finally, notice how this comment is printed, too. \n",
    "That's not normally what happens in Python. \n",
    "Jupyter Notebook just has a bug where it will print a multi-line\n",
    "comment if it's the last thing in a cell. \n",
    "\"\"\"\n",
    "\n",
    "print(my_string[1])"
   ]
  },
  {
   "cell_type": "markdown",
   "metadata": {},
   "source": [
    "## Data Structures \n",
    "While variables can only store one value each, **data structures** can store many values at once. Here are a few of the most common data structures used in Python.\n",
    "### Lists\n",
    "A **list** is a set of values, such as numbers or strings. Define a list by listing elements separated by commas inside of square brackets. That is, to create a list called \"my_list\" with the elements 1, 2, 3, and 4, you would type the following:\n",
    "\n",
    "```my_list = [1, 2, 3, 4]```\n",
    "\n",
    "#### List Elements\n",
    "Individual elements in the list are given by ```list_name[index]```, where the index is the location of the element in the list. Python uses *zero-based indexing*, so the first element is actually element 0. \n",
    "\n",
    "```first_number = my_list[0]```\n",
    "\n",
    "#### Tuples\n",
    "You may encounter a similar-looking data structure called a **tuple**. Tuples are like lists, but they are enclosed by parentheses and cannot be changed. \n",
    "\n",
    "```my_tuple = (1, 2, 3, 4)```\n",
    "\n",
    "```my_tuple_element = my_tuple[0]```"
   ]
  },
  {
   "cell_type": "code",
   "execution_count": 6,
   "metadata": {},
   "outputs": [
    {
     "name": "stdout",
     "output_type": "stream",
     "text": [
      "2 Kenobi\n",
      "2 \n",
      " Kenobi\n"
     ]
    }
   ],
   "source": [
    "# Task) Create a list of integers with 4 elements \n",
    "#       and a list of strings with 2 elements.\n",
    "#       Then, print the second value of each list.\n",
    "#\n",
    "#       Write your code below\n",
    "\n",
    "my_list1 = [1, 2, 3, 4]\n",
    "my_list2 = ['General', 'Kenobi']\n",
    "\n",
    "print(my_list1[1], my_list2[1])\n",
    "print(my_list1[1], '\\n', my_list2[1]) \n",
    "\n",
    "# Remember, Python counting starts with 0!"
   ]
  },
  {
   "cell_type": "markdown",
   "metadata": {},
   "source": [
    "### Arrays\n",
    "An **array** is a matrix. You define an array in Python by making a *list of lists*. For example, if you want to make the following 3x4 matrix with consecutive elements\n",
    "\n",
    "$$\\begin{pmatrix} 1 & 2 & 3 & 4 \\\\ 5 & 6 & 7 & 8 \\\\ 9 & 10 & 11 & 12 \\end{pmatrix}$$\n",
    "\n",
    "you would need to create a list whose elements are the rows of the matrix:\n",
    "\n",
    "```my_array = [[1,2,3,4],[5,6,7,8],[9,10,11,12]]```\n",
    "\n",
    "#### Array Elements\n",
    "Referencing an element in an array is similar to referencing an element in a list, just with two indices. \n",
    "\n",
    "```my_array[i][j]``` references an element in row *i* and column *j* of ```my_array```."
   ]
  },
  {
   "cell_type": "code",
   "execution_count": 4,
   "metadata": {},
   "outputs": [
    {
     "name": "stdout",
     "output_type": "stream",
     "text": [
      "4\n"
     ]
    }
   ],
   "source": [
    "# Task) Make a 2x3 array, \n",
    "#       then print the first element of the second row\n",
    "#\n",
    "#       Write your code below\n",
    "\n",
    "row1 = [1, 2, 3]\n",
    "row2 = [4, 5, 6]\n",
    "row3 = [7, 8, 9]\n",
    "\n",
    "my_array = [row1, row2, row3]\n",
    "\n",
    "\"\"\"\n",
    "Note: \n",
    "It's equally valid to just define the array as\n",
    "    my_array = [[1, 2, 3],[4, 5, 6],[7, 8, 9]]\n",
    "but that starts to get messy pretty quickly\n",
    "\"\"\"\n",
    "\n",
    "print(my_array[1][0])"
   ]
  },
  {
   "cell_type": "markdown",
   "metadata": {},
   "source": [
    "### Dictionaries\n",
    "A **dictionary** in Python is a data structure which stores a set of important objects, called **keys**, and their associated **values**. To understand what this means, consider an actual dictionary. It contains words, and each word has associated definitions. In this case, the words themselves are the keys, and the definitions are the values. A Python dictionary consists of a list of ```key:value``` pairs inside of curly braces:\n",
    "\n",
    "```my_dictionary = {'Year':2020, 'School':'UTD', 'Count':[1,2,3]}```\n",
    "\n",
    "*Note:* Keys should be strings or integers. Values can be any data structure or variable, even another dictionary!\n",
    "\n",
    "#### Dictionary Elements\n",
    "```dictionary_name[key]``` finds the value(s) associated with a known key in the dictionary. \n",
    "\n",
    "For example, ```my_dictionary['School']``` will give you ```'UTD'```."
   ]
  },
  {
   "cell_type": "code",
   "execution_count": 7,
   "metadata": {},
   "outputs": [
    {
     "name": "stdout",
     "output_type": "stream",
     "text": [
      "2\n"
     ]
    }
   ],
   "source": [
    "# Task) From the dictionary below, the value for the key 'Count' \n",
    "#       is a list. Print the 2nd element of that list. \n",
    "\n",
    "my_dictionary = {'Year':2020, 'School':'UTD', 'Count':[1,2,3]}\n",
    "\n",
    "#       Write your code below\n",
    "\n",
    "print(my_dictionary['Count'][1])\n",
    "\n",
    "# The []'s let you zoom into a data structure and grab a single value!"
   ]
  },
  {
   "cell_type": "markdown",
   "metadata": {},
   "source": [
    "## Determining Variable Types\n",
    "If you cannot determine a variable's type, put the variable's name inside of the parentheses of ```type()``` and print the value."
   ]
  },
  {
   "cell_type": "code",
   "execution_count": 10,
   "metadata": {},
   "outputs": [
    {
     "name": "stdout",
     "output_type": "stream",
     "text": [
      "<class 'str'>\n",
      "<class 'float'>\n"
     ]
    }
   ],
   "source": [
    "# Task) Determine what type of variable \"test_variable\" is, \n",
    "#       then print the result\n",
    "\n",
    "test_variable = \"1234.56\"\n",
    "\n",
    "#       Write your code below\n",
    "\n",
    "print(type(test_variable))\n",
    "\n",
    "# Is it what you expected?\n",
    "\n",
    "\"\"\"\n",
    "Discussion:\n",
    "It says \"<class 'str'>\", meaning test_variable is a string!\n",
    "That's because it's a set of characters enclosed by quotes!\n",
    "If you want to make it a float, try the line of code below:\n",
    "    print(type(float(test_variable)))\n",
    "\"\"\"\n",
    "\n",
    "# Division of integers gives you a float\n",
    "print(type(18/6))"
   ]
  },
  {
   "cell_type": "code",
   "execution_count": null,
   "metadata": {},
   "outputs": [],
   "source": []
  }
 ],
 "metadata": {
  "kernelspec": {
   "display_name": "Python 3",
   "language": "python",
   "name": "python3"
  },
  "language_info": {
   "codemirror_mode": {
    "name": "ipython",
    "version": 3
   },
   "file_extension": ".py",
   "mimetype": "text/x-python",
   "name": "python",
   "nbconvert_exporter": "python",
   "pygments_lexer": "ipython3",
   "version": "3.8.8"
  }
 },
 "nbformat": 4,
 "nbformat_minor": 2
}
