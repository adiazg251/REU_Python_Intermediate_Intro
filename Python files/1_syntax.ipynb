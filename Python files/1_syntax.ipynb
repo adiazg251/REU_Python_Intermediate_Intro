{
 "cells": [
  {
   "cell_type": "markdown",
   "metadata": {},
   "source": [
    "# Python Workshop: Syntax \n",
    "## Code Structure\n",
    "The structure of a typical Python program looks like this:\n",
    "\n",
    "|            Python Code Structure            |\n",
    "|:-------------------------------------------:|\n",
    "|           A line like #!/bin/bash           |\n",
    "| Comment with license and author information |\n",
    "|               Import packages               |\n",
    "|          Define your own functions          |\n",
    "|        Code that calls the functions        |\n",
    "\n",
    "Most Integrated Development Environments (IDEs) will color-code everything in your program. In Jupyter, for example, words which already exist as something in Python will turn green.\n",
    "\n",
    "*Note: Unlike some languages, you don't need semicolons at the end of every line! However, you do have to pay attention to how you **indent** lines. This will pop up when we start working with functions.*\n",
    " \n",
    "## Print Statements and Comments\n",
    "Two things to immediately become familiar with are **print statements** and **comments**. They will help you figure out what is happening in your code and make it much easier to read.\n",
    "#### Print Statements\n",
    "```print()``` displays whatever is inside of the parenthesis. You can print multiple things in the same line by separating them with commas. These are very useful to check that everything is working correctly (or to find a problem!). \n",
    "#### Comments\n",
    "Comments are used to annotate code to make it easier to understand. Use a ```#``` sign at the beginning of a line to make a **single-line comment**. Use two sets of triple quotes (```\"\"\"``` or ```'''```) to mark the beginning and end of longer comments (**multi-line comments**). \n",
    "\n",
    "Comments *really* help when sharing your code with others, debugging, and revisiting old code!"
   ]
  },
  {
   "cell_type": "code",
   "execution_count": 1,
   "metadata": {},
   "outputs": [
    {
     "name": "stdout",
     "output_type": "stream",
     "text": [
      "Great, comments are awesome!\n"
     ]
    }
   ],
   "source": [
    "'''\n",
    "Here's an example of a multi-line comment. It's red!\n",
    "You can type anything you want in your comments. \n",
    "The computer will ignore them when running code.\n",
    "'''\n",
    "\n",
    "# Here's an example of a single-line comment. It's blue!\n",
    "\n",
    "print(\"Great, comments are awesome!\") # Comments can even go after lines of code.\n",
    "\n",
    "# Notice that \"print\" is green, meaning it's a word in Python"
   ]
  },
  {
   "cell_type": "code",
   "execution_count": 2,
   "metadata": {},
   "outputs": [
    {
     "name": "stdout",
     "output_type": "stream",
     "text": [
      "7\n"
     ]
    }
   ],
   "source": [
    "# Your turn!\n",
    "# Task) Make a multi-line comment, then print any whole number\n",
    "#\n",
    "#       Write your code below\n",
    "\n",
    "\"\"\"\n",
    "This is a multi-line comment!\n",
    "Look how it spans several lines and has triple quotes.\n",
    "Python will ignore this.\n",
    "\"\"\"\n",
    "\n",
    "print(7)\n",
    "\n",
    "# NOTE: If you end a cell with a multi-line comment,\n",
    "# Jupyter notebook may print it even though comments should be ignored."
   ]
  },
  {
   "cell_type": "code",
   "execution_count": null,
   "metadata": {},
   "outputs": [],
   "source": []
  }
 ],
 "metadata": {
  "kernelspec": {
   "display_name": "Python 3",
   "language": "python",
   "name": "python3"
  },
  "language_info": {
   "codemirror_mode": {
    "name": "ipython",
    "version": 3
   },
   "file_extension": ".py",
   "mimetype": "text/x-python",
   "name": "python",
   "nbconvert_exporter": "python",
   "pygments_lexer": "ipython3",
   "version": "3.8.8"
  }
 },
 "nbformat": 4,
 "nbformat_minor": 2
}
